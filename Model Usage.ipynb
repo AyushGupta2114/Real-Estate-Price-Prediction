{
 "cells": [
  {
   "cell_type": "markdown",
   "id": "9862798d",
   "metadata": {},
   "source": [
    "## Using the Model"
   ]
  },
  {
   "cell_type": "code",
   "execution_count": 24,
   "id": "556a4aaf",
   "metadata": {},
   "outputs": [
    {
     "data": {
      "text/plain": [
       "array([23.439])"
      ]
     },
     "execution_count": 24,
     "metadata": {},
     "output_type": "execute_result"
    }
   ],
   "source": [
    "from joblib import dump,load\n",
    "import numpy as np\n",
    "model = load('Real_Estate.joblib')\n",
    "features = np.array([[-0.43942006,  2.12628155, -1.175165014, -0.27288841, -1.42262747,\n",
    "       -11.9901173, -1.3155238772,  2.61111477, -5.5016859 , -5.5778192 ,\n",
    "       -0.97491834,  0.41164221, -0.86091039]])\n",
    "model.predict(features)"
   ]
  },
  {
   "cell_type": "markdown",
   "id": "40bd716b",
   "metadata": {},
   "source": [
    "Sklearn  and pakages is keep updating we have to study about them before applying"
   ]
  },
  {
   "cell_type": "code",
   "execution_count": null,
   "id": "f2e68dea",
   "metadata": {},
   "outputs": [],
   "source": []
  }
 ],
 "metadata": {
  "kernelspec": {
   "display_name": "Python 3 (ipykernel)",
   "language": "python",
   "name": "python3"
  },
  "language_info": {
   "codemirror_mode": {
    "name": "ipython",
    "version": 3
   },
   "file_extension": ".py",
   "mimetype": "text/x-python",
   "name": "python",
   "nbconvert_exporter": "python",
   "pygments_lexer": "ipython3",
   "version": "3.9.10"
  }
 },
 "nbformat": 4,
 "nbformat_minor": 5
}
