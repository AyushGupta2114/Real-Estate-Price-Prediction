{
 "cells": [
  {
   "cell_type": "markdown",
   "id": "6f41b6b9",
   "metadata": {},
   "source": [
    "## Using the Model"
   ]
  },
  {
   "cell_type": "code",
   "execution_count": 1,
   "id": "72ffef0d",
   "metadata": {},
   "outputs": [],
   "source": [
    "from joblib import dump,load\n",
    "import numpy as np\n",
    "model = load('Real_Estate.joblib')\n",
    "features = np.array([[-0.43942006,  2.12628155, -1.175165014, -0.27288841, -1.42262747,\n",
    "       -11.9901173, -1.3155238772,  2.61111477, -5.5016859 , -5.5778192 ,\n",
    "       -0.97491834,  0.41164221, -0.86091039]])\n"
   ]
  },
  {
   "cell_type": "code",
   "execution_count": 2,
   "id": "2c84faa4",
   "metadata": {},
   "outputs": [
    {
     "data": {
      "text/plain": [
       "array([24.396])"
      ]
     },
     "execution_count": 2,
     "metadata": {},
     "output_type": "execute_result"
    }
   ],
   "source": [
    "model.predict(features)"
   ]
  },
  {
   "cell_type": "markdown",
   "id": "ccd23db3",
   "metadata": {},
   "source": [
    "Sklearn  and pakages is keep updating we have to study about them before applying"
   ]
  },
  {
   "cell_type": "code",
   "execution_count": null,
   "id": "5fd76678",
   "metadata": {},
   "outputs": [],
   "source": []
  }
 ],
 "metadata": {
  "kernelspec": {
   "display_name": "Python 3",
   "language": "python",
   "name": "python3"
  },
  "language_info": {
   "codemirror_mode": {
    "name": "ipython",
    "version": 3
   },
   "file_extension": ".py",
   "mimetype": "text/x-python",
   "name": "python",
   "nbconvert_exporter": "python",
   "pygments_lexer": "ipython3",
   "version": "3.9.10"
  },
  "vscode": {
   "interpreter": {
    "hash": "76a1c8c3fd934dbaf561da1caa52d85ab6f51e4fd4d989b33244b0dc867a8076"
   }
  }
 },
 "nbformat": 4,
 "nbformat_minor": 5
}
